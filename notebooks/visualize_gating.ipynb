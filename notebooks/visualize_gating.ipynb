{
 "cells": [
  {
   "cell_type": "markdown",
   "metadata": {},
   "source": [
    "# POC — Visualize Gating by Task\n",
    "\n",
    "Displays routing plots and metrics for the latest run of each task (AG News, CIFAR-10, Video).\n",
    "Each task has multiple scenarios: base, ablation_small, ablation_wide, cap_low."
   ]
  },
  {
   "cell_type": "code",
   "execution_count": null,
   "id": "1f488707",
   "metadata": {},
   "outputs": [],
   "source": [
    "import os, sys\n",
    "from pathlib import Path\n",
    "import yaml\n",
    "import matplotlib.pyplot as plt\n",
    "from IPython.display import display, Image\n",
    "\n",
    "ROOT = Path.cwd().resolve()\n",
    "if ROOT.name == \"notebooks\":\n",
    "    sys.path.append(str(ROOT.parent)); PROJ = ROOT.parent\n",
    "else:\n",
    "    sys.path.append(str(ROOT)); PROJ = ROOT\n",
    "\n",
    "def get_latest_run(task_name, scenario=\"base\"):\n",
    "    \"\"\"Get the latest run directory for a given task and scenario.\"\"\"\n",
    "    poc_root = PROJ / \"checkpoints\" / \"poc\"\n",
    "    task_dir = poc_root / task_name / scenario\n",
    "    \n",
    "    if not task_dir.exists():\n",
    "        print(f\"Task directory not found: {task_dir}\")\n",
    "        return None\n",
    "    \n",
    "    # Find newest run folder (yyyy-mm-dd-hhmmss format)\n",
    "    run_dirs = [d for d in task_dir.iterdir() if d.is_dir()]\n",
    "    if not run_dirs:\n",
    "        print(f\"No run directories found in {task_dir}\")\n",
    "        return None\n",
    "    \n",
    "    latest_run = max(run_dirs, key=lambda p: p.stat().st_mtime)\n",
    "    return latest_run\n",
    "\n",
    "def display_core_plots(plots_dir):\n",
    "    \"\"\"Display core plots: loss curves and balance/entropy plots.\"\"\"\n",
    "    if not plots_dir.exists():\n",
    "        print(f\"Plots directory not found: {plots_dir}\")\n",
    "        return\n",
    "    \n",
    "    print(\"### Core Plots\")\n",
    "    \n",
    "    # Loss curves\n",
    "    loss_plot = plots_dir / \"loss_curves.png\"\n",
    "    if loss_plot.exists():\n",
    "        print(\"**Loss Curves:**\")\n",
    "        display(Image(filename=str(loss_plot)))\n",
    "    else:\n",
    "        print(\"Missing: loss_curves.png\")\n",
    "    \n",
    "    # Balance/entropy plots from train folder\n",
    "    balance_train_dir = plots_dir / \"balance_entropy_train\"\n",
    "    if balance_train_dir.exists():\n",
    "        balance_plots = sorted(balance_train_dir.glob(\"balance_layer*_train.png\"))[:2]\n",
    "        if balance_plots:\n",
    "            print(\"**Balance Plots (Train):**\")\n",
    "            for p in balance_plots:\n",
    "                display(Image(filename=str(p)))\n",
    "    \n",
    "    # Entropy plots\n",
    "    entropy_plots = sorted(plots_dir.glob(\"entropy_layer*_train.png\"))[:2]\n",
    "    if entropy_plots:\n",
    "        print(\"**Entropy Plots:**\")\n",
    "        for p in entropy_plots:\n",
    "            display(Image(filename=str(p)))\n",
    "\n",
    "def display_expert_usage(plots_dir):\n",
    "    \"\"\"Display expert usage bars and heatmaps.\"\"\"\n",
    "    if not plots_dir.exists():\n",
    "        return\n",
    "    \n",
    "    print(\"### Expert Usage and Heatmaps\")\n",
    "    \n",
    "    # Expert usage bar charts\n",
    "    bars = sorted(plots_dir.glob(\"expert_usage_epoch*_layer*_*\"))[:2]\n",
    "    if bars:\n",
    "        print(\"**Expert Usage (Bars):**\")\n",
    "        for p in bars:\n",
    "            display(Image(filename=str(p)))\n",
    "    \n",
    "    # Heatmaps\n",
    "    heats = sorted(plots_dir.glob(\"heatmap_epoch*_layer*_*\"))[:2]\n",
    "    if heats:\n",
    "        print(\"**Routing Heatmaps:**\")\n",
    "        for p in heats:\n",
    "            display(Image(filename=str(p)))\n",
    "\n",
    "print(\"Project root:\", PROJ)"
   ]
  },
  {
   "cell_type": "markdown",
   "metadata": {},
   "source": [
    "## AG News Task"
   ]
  },
  {
   "cell_type": "markdown",
   "id": "5832c0b3",
   "metadata": {},
   "source": [
    "### AG News - Base Scenario"
   ]
  },
  {
   "cell_type": "code",
   "execution_count": null,
   "metadata": {},
   "outputs": [],
   "source": [
    "print(\"## AG News - Base Scenario\")\n",
    "ag_run_base = get_latest_run(\"ag_news\", \"base\")\n",
    "\n",
    "if ag_run_base:\n",
    "    print(f\"Using run: {ag_run_base}\")\n",
    "    plots_dir = ag_run_base / \"plots\"\n",
    "    \n",
    "    display_core_plots(plots_dir)\n",
    "    display_expert_usage(plots_dir)\n",
    "else:\n",
    "    print(\"No AG News base runs found\")"
   ]
  },
  {
   "cell_type": "markdown",
   "id": "0ecfa7a7",
   "metadata": {},
   "source": [
    "### AG News - Ablation Small Scenario"
   ]
  },
  {
   "cell_type": "code",
   "execution_count": null,
   "id": "da1b4bec",
   "metadata": {},
   "outputs": [],
   "source": [
    "print(\"## AG News - Ablation Small Scenario\")\n",
    "ag_run_small = get_latest_run(\"ag_news\", \"ablation_small\")\n",
    "\n",
    "if ag_run_small:\n",
    "    print(f\"Using run: {ag_run_small}\")\n",
    "    plots_dir = ag_run_small / \"plots\"\n",
    "    \n",
    "    display_core_plots(plots_dir)\n",
    "    display_expert_usage(plots_dir)\n",
    "else:\n",
    "    print(\"No AG News ablation_small runs found\")"
   ]
  },
  {
   "cell_type": "markdown",
   "id": "ea734eed",
   "metadata": {},
   "source": [
    "### AG News - Ablation Wide Scenario"
   ]
  },
  {
   "cell_type": "code",
   "execution_count": null,
   "id": "5fc0982c",
   "metadata": {},
   "outputs": [],
   "source": [
    "print(\"## AG News - Ablation Wide Scenario\")\n",
    "ag_run_wide = get_latest_run(\"ag_news\", \"ablation_wide\")\n",
    "\n",
    "if ag_run_wide:\n",
    "    print(f\"Using run: {ag_run_wide}\")\n",
    "    plots_dir = ag_run_wide / \"plots\"\n",
    "    \n",
    "    display_core_plots(plots_dir)\n",
    "    display_expert_usage(plots_dir)\n",
    "else:\n",
    "    print(\"No AG News ablation_wide runs found\")"
   ]
  },
  {
   "cell_type": "markdown",
   "id": "fb3b3ff8",
   "metadata": {},
   "source": [
    "### AG News - Cap Low Scenario"
   ]
  },
  {
   "cell_type": "code",
   "execution_count": null,
   "id": "0492e904",
   "metadata": {},
   "outputs": [],
   "source": [
    "print(\"## AG News - Cap Low Scenario\")\n",
    "ag_run_cap = get_latest_run(\"ag_news\", \"cap_low\")\n",
    "\n",
    "if ag_run_cap:\n",
    "    print(f\"Using run: {ag_run_cap}\")\n",
    "    plots_dir = ag_run_cap / \"plots\"\n",
    "    \n",
    "    display_core_plots(plots_dir)\n",
    "    display_expert_usage(plots_dir)\n",
    "else:\n",
    "    print(\"No AG News cap_low runs found\")"
   ]
  },
  {
   "cell_type": "markdown",
   "metadata": {},
   "source": [
    "## CIFAR-10 Task"
   ]
  },
  {
   "cell_type": "markdown",
   "id": "212c419f",
   "metadata": {},
   "source": [
    "### CIFAR-10 - Base Scenario"
   ]
  },
  {
   "cell_type": "code",
   "execution_count": null,
   "metadata": {},
   "outputs": [],
   "source": [
    "print(\"## CIFAR-10 - Base Scenario\")\n",
    "cifar_run_base = get_latest_run(\"cifar10\", \"base\")\n",
    "\n",
    "if cifar_run_base:\n",
    "    print(f\"Using run: {cifar_run_base}\")\n",
    "    plots_dir = cifar_run_base / \"plots\"\n",
    "    \n",
    "    display_core_plots(plots_dir)\n",
    "    display_expert_usage(plots_dir)\n",
    "else:\n",
    "    print(\"No CIFAR-10 base runs found\")"
   ]
  },
  {
   "cell_type": "markdown",
   "id": "7eae4e20",
   "metadata": {},
   "source": [
    "### CIFAR-10 - Ablation Small Scenario"
   ]
  },
  {
   "cell_type": "code",
   "execution_count": null,
   "id": "570f1f5e",
   "metadata": {},
   "outputs": [],
   "source": [
    "print(\"## CIFAR-10 - Ablation Small Scenario\")\n",
    "cifar_run_small = get_latest_run(\"cifar10\", \"ablation_small\")\n",
    "\n",
    "if cifar_run_small:\n",
    "    print(f\"Using run: {cifar_run_small}\")\n",
    "    plots_dir = cifar_run_small / \"plots\"\n",
    "    \n",
    "    display_core_plots(plots_dir)\n",
    "    display_expert_usage(plots_dir)\n",
    "else:\n",
    "    print(\"No CIFAR-10 ablation_small runs found\")"
   ]
  },
  {
   "cell_type": "markdown",
   "id": "219b0b23",
   "metadata": {},
   "source": [
    "### CIFAR-10 - Ablation Wide Scenario"
   ]
  },
  {
   "cell_type": "code",
   "execution_count": null,
   "id": "e61204e6",
   "metadata": {},
   "outputs": [],
   "source": [
    "print(\"## CIFAR-10 - Ablation Wide Scenario\")\n",
    "cifar_run_wide = get_latest_run(\"cifar10\", \"ablation_wide\")\n",
    "\n",
    "if cifar_run_wide:\n",
    "    print(f\"Using run: {cifar_run_wide}\")\n",
    "    plots_dir = cifar_run_wide / \"plots\"\n",
    "    \n",
    "    display_core_plots(plots_dir)\n",
    "    display_expert_usage(plots_dir)\n",
    "else:\n",
    "    print(\"No CIFAR-10 ablation_wide runs found\")"
   ]
  },
  {
   "cell_type": "markdown",
   "id": "4067dc9b",
   "metadata": {},
   "source": [
    "### CIFAR-10 - Cap Low Scenario"
   ]
  },
  {
   "cell_type": "code",
   "execution_count": null,
   "id": "af95aa87",
   "metadata": {},
   "outputs": [],
   "source": [
    "print(\"## CIFAR-10 - Cap Low Scenario\")\n",
    "cifar_run_cap = get_latest_run(\"cifar10\", \"cap_low\")\n",
    "\n",
    "if cifar_run_cap:\n",
    "    print(f\"Using run: {cifar_run_cap}\")\n",
    "    plots_dir = cifar_run_cap / \"plots\"\n",
    "    \n",
    "    display_core_plots(plots_dir)\n",
    "    display_expert_usage(plots_dir)\n",
    "else:\n",
    "    print(\"No CIFAR-10 cap_low runs found\")"
   ]
  },
  {
   "cell_type": "markdown",
   "metadata": {},
   "source": [
    "## Video Task"
   ]
  },
  {
   "cell_type": "markdown",
   "id": "3944bd70",
   "metadata": {},
   "source": [
    "### Video - Base Scenario"
   ]
  },
  {
   "cell_type": "code",
   "execution_count": null,
   "metadata": {},
   "outputs": [],
   "source": [
    "print(\"## Video - Base Scenario\")\n",
    "video_run_base = get_latest_run(\"video\", \"base\")\n",
    "\n",
    "if video_run_base:\n",
    "    print(f\"Using run: {video_run_base}\")\n",
    "    plots_dir = video_run_base / \"plots\"\n",
    "    \n",
    "    if plots_dir.exists() and any(plots_dir.iterdir()):\n",
    "        display_core_plots(plots_dir)\n",
    "        display_expert_usage(plots_dir)\n",
    "    else:\n",
    "        print(\"Plots directory is empty (this is expected for video task)\")\n",
    "else:\n",
    "    print(\"No Video base runs found\")"
   ]
  },
  {
   "cell_type": "markdown",
   "id": "b94bd1df",
   "metadata": {},
   "source": [
    "### Video - Ablation Small Scenario"
   ]
  },
  {
   "cell_type": "code",
   "execution_count": null,
   "id": "da423d19",
   "metadata": {},
   "outputs": [],
   "source": [
    "print(\"## Video - Ablation Small Scenario\")\n",
    "video_run_small = get_latest_run(\"video\", \"ablation_small\")\n",
    "\n",
    "if video_run_small:\n",
    "    print(f\"Using run: {video_run_small}\")\n",
    "    plots_dir = video_run_small / \"plots\"\n",
    "    \n",
    "    if plots_dir.exists() and any(plots_dir.iterdir()):\n",
    "        display_core_plots(plots_dir)\n",
    "        display_expert_usage(plots_dir)\n",
    "    else:\n",
    "        print(\"Plots directory is empty (this is expected for video task)\")\n",
    "else:\n",
    "    print(\"No Video ablation_small runs found\")"
   ]
  },
  {
   "cell_type": "markdown",
   "id": "07ff8219",
   "metadata": {},
   "source": [
    "### Video - Ablation Wide Scenario"
   ]
  },
  {
   "cell_type": "code",
   "execution_count": null,
   "id": "d7b4131e",
   "metadata": {},
   "outputs": [],
   "source": [
    "print(\"## Video - Ablation Wide Scenario\")\n",
    "video_run_wide = get_latest_run(\"video\", \"ablation_wide\")\n",
    "\n",
    "if video_run_wide:\n",
    "    print(f\"Using run: {video_run_wide}\")\n",
    "    plots_dir = video_run_wide / \"plots\"\n",
    "    \n",
    "    if plots_dir.exists() and any(plots_dir.iterdir()):\n",
    "        display_core_plots(plots_dir)\n",
    "        display_expert_usage(plots_dir)\n",
    "    else:\n",
    "        print(\"Plots directory is empty (this is expected for video task)\")\n",
    "else:\n",
    "    print(\"No Video ablation_wide runs found\")"
   ]
  },
  {
   "cell_type": "markdown",
   "id": "31608cec",
   "metadata": {},
   "source": [
    "### Video - Cap Low Scenario"
   ]
  },
  {
   "cell_type": "code",
   "execution_count": null,
   "id": "79bbba48",
   "metadata": {},
   "outputs": [],
   "source": [
    "print(\"## Video - Cap Low Scenario\")\n",
    "video_run_cap = get_latest_run(\"video\", \"cap_low\")\n",
    "\n",
    "if video_run_cap:\n",
    "    print(f\"Using run: {video_run_cap}\")\n",
    "    plots_dir = video_run_cap / \"plots\"\n",
    "    \n",
    "    if plots_dir.exists() and any(plots_dir.iterdir()):\n",
    "        display_core_plots(plots_dir)\n",
    "        display_expert_usage(plots_dir)\n",
    "    else:\n",
    "        print(\"Plots directory is empty (this is expected for video task)\")\n",
    "else:\n",
    "    print(\"No Video cap_low runs found\")"
   ]
  }
 ],
 "metadata": {
  "kernelspec": {
   "display_name": ".venv",
   "language": "python",
   "name": "python3"
  },
  "language_info": {
   "codemirror_mode": {
    "name": "ipython",
    "version": 3
   },
   "file_extension": ".py",
   "mimetype": "text/x-python",
   "name": "python",
   "nbconvert_exporter": "python",
   "pygments_lexer": "ipython3",
   "version": "3.12.3"
  }
 },
 "nbformat": 4,
 "nbformat_minor": 5
}
