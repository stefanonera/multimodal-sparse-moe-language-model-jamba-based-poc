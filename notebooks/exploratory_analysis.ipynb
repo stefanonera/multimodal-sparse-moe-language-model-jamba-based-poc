{
  "cells": [
    {
      "cell_type": "markdown",
      "metadata": {},
      "source": [
        "# POC — Exploratory Analysis (CIFAR-10, AG News, mini-UCF)\n",
        "\n",
        "Minimal dataset sanity checks and quick visuals for the technical report."
      ]
    },
    {
      "cell_type": "code",
      "execution_count": null,
      "metadata": {},
      "outputs": [],
      "source": [
        "import os, sys, math, random\n",
        "from pathlib import Path\n",
        "import numpy as np\n",
        "import matplotlib.pyplot as plt\n",
        "\n",
        "ROOT = Path.cwd().resolve()\n",
        "if ROOT.name == \"notebooks\":\n",
        "    sys.path.append(str(ROOT.parent))\n",
        "    PROJ = ROOT.parent\n",
        "else:\n",
        "    sys.path.append(str(ROOT))\n",
        "    PROJ = ROOT\n",
        "\n",
        "print(\"Project root:\", PROJ)"
      ]
    },
    {
      "cell_type": "markdown",
      "metadata": {},
      "source": [
        "## CIFAR-10 — label distribution and sample grid"
      ]
    },
    {
      "cell_type": "code",
      "execution_count": null,
      "metadata": {},
      "outputs": [],
      "source": [
        "from datasets import load_dataset\n",
        "from collections import Counter\n",
        "\n",
        "ds_train = load_dataset(\"cifar10\", split=\"train[:90%]\")\n",
        "ds_val   = load_dataset(\"cifar10\", split=\"train[90%:]\")\n",
        "names = ds_train.features[\"label\"].names\n",
        "\n",
        "print(f\"{'Class':<12} {'Name':<12} {'Train Count':<12} {'Val Count':<10} {'Train %':<8} {'Val %':<8}\")\n",
        "print(\"-\" * 70)\n",
        "\n",
        "train_counts = Counter(int(r[\"label\"]) for r in ds_train)\n",
        "val_counts = Counter(int(r[\"label\"]) for r in ds_val)\n",
        "\n",
        "train_total = len(ds_train)\n",
        "val_total = len(ds_val)\n",
        "\n",
        "for i, class_name in enumerate(names):\n",
        "    train_count = train_counts.get(i, 0)\n",
        "    val_count = val_counts.get(i, 0)\n",
        "    train_pct = (train_count / train_total) * 100\n",
        "    val_pct = (val_count / val_total) * 100\n",
        "    \n",
        "    print(f\"{i:<12} {class_name:<12} {train_count:<12} {val_count:<10} {train_pct:<8.1f} {val_pct:<8.1f}\")\n",
        "\n",
        "print(\"-\" * 70)\n",
        "print(f\"{'Total':<12} {'':<12} {train_total:<12} {val_total:<10} {100.0:<8.1f} {100.0:<8.1f}\")"
      ]
    },
    {
      "cell_type": "code",
      "execution_count": null,
      "metadata": {},
      "outputs": [],
      "source": [
        "import matplotlib.pyplot as plt\n",
        "import numpy as np\n",
        "\n",
        "def show_cifar_grid(ds, n=12, title=\"CIFAR-10 samples\"):\n",
        "    idxs = np.random.choice(len(ds), size=min(n, len(ds)), replace=False)\n",
        "    cols = int(np.sqrt(len(idxs))); rows = int(np.ceil(len(idxs)/cols))\n",
        "    plt.figure(figsize=(cols*2, rows*2))\n",
        "    for j, i in enumerate(idxs):\n",
        "        ex = ds[int(i)]\n",
        "        img = ex[\"img\"]\n",
        "        label = ds.features[\"label\"].names[int(ex[\"label\"])]\n",
        "        plt.subplot(rows, cols, j+1)\n",
        "        plt.imshow(img); plt.axis(\"off\")\n",
        "        plt.title(label, fontsize=8)\n",
        "    plt.suptitle(title, fontsize=12)\n",
        "    plt.tight_layout(); plt.show()\n",
        "\n",
        "show_cifar_grid(ds_train, n=12)"
      ]
    },
    {
      "cell_type": "markdown",
      "metadata": {},
      "source": [
        "## AG News — class distribution and sample snippets"
      ]
    },
    {
      "cell_type": "code",
      "execution_count": null,
      "metadata": {},
      "outputs": [],
      "source": [
        "from datasets import load_dataset\n",
        "from collections import Counter\n",
        "\n",
        "ds_tr_text = load_dataset(\"ag_news\", split=\"train[:2000]\")\n",
        "ds_va_text = load_dataset(\"ag_news\", split=\"test[:1000]\")\n",
        "names = [\"World\", \"Sports\", \"Business\", \"Sci/Tech\"]\n",
        "\n",
        "print(f\"{'Class':<12} {'Name':<12} {'Train Count':<12} {'Val Count':<10} {'Train %':<8} {'Val %':<8}\")\n",
        "print(\"-\" * 70)\n",
        "\n",
        "train_counts = Counter(int(r[\"label\"]) for r in ds_tr_text)\n",
        "val_counts = Counter(int(r[\"label\"]) for r in ds_va_text)\n",
        "\n",
        "train_total = len(ds_tr_text)\n",
        "val_total = len(ds_va_text)\n",
        "\n",
        "for i, class_name in enumerate(names):\n",
        "    train_count = train_counts.get(i, 0)\n",
        "    val_count = val_counts.get(i, 0)\n",
        "    train_pct = (train_count / train_total) * 100\n",
        "    val_pct = (val_count / val_total) * 100\n",
        "    \n",
        "    print(f\"{i:<12} {class_name:<12} {train_count:<12} {val_count:<10} {train_pct:<8.1f} {val_pct:<8.1f}\")\n",
        "\n",
        "print(\"-\" * 70)\n",
        "print(f\"{'Total':<12} {'':<12} {train_total:<12} {val_total:<10} {100.0:<8.1f} {100.0:<8.1f}\")"
      ]
    },
    {
      "cell_type": "code",
      "execution_count": null,
      "metadata": {},
      "outputs": [],
      "source": [
        "# Show a few short snippets\n",
        "for i in range(3):\n",
        "    print(f\"--- AG News sample {i+1} ---\")\n",
        "    print(ds_tr_text[i][\"text\"][:200].replace(\"\\n\",\" \"))"
      ]
    },
    {
      "cell_type": "markdown",
      "metadata": {},
      "source": [
        "## mini-UCF — folder stats and grid showing samples frames"
      ]
    },
    {
      "cell_type": "code",
      "execution_count": null,
      "metadata": {},
      "outputs": [],
      "source": [
        "from pathlib import Path\n",
        "from collections import Counter\n",
        "\n",
        "VID_ROOT = (PROJ / \"data\" / \"mini_ucf\")\n",
        "print(\"Looking for:\", VID_ROOT)\n",
        "\n",
        "if VID_ROOT.exists():\n",
        "    # get all classes from train directory\n",
        "    train_dir = VID_ROOT / \"train\"\n",
        "    val_dir = VID_ROOT / \"val\"\n",
        "    \n",
        "    if train_dir.exists() and val_dir.exists():\n",
        "        # get all class names\n",
        "        train_classes = [d.name for d in train_dir.iterdir() if d.is_dir()]\n",
        "        val_classes = [d.name for d in val_dir.iterdir() if d.is_dir()]\n",
        "        all_classes = sorted(list(set(train_classes + val_classes)))\n",
        "        \n",
        "        print(f\"{'Class':<12} {'Name':<15} {'Train Count':<12} {'Val Count':<10} {'Train %':<8} {'Val %':<8}\")\n",
        "        print(\"-\" * 75)\n",
        "        \n",
        "        train_counts = {}\n",
        "        val_counts = {}\n",
        "        \n",
        "        # count videos for each class\n",
        "        for class_name in all_classes:\n",
        "            train_count = len(list((train_dir / class_name).glob(\"*\"))) if (train_dir / class_name).exists() else 0\n",
        "            val_count = len(list((val_dir / class_name).glob(\"*\"))) if (val_dir / class_name).exists() else 0\n",
        "            train_counts[class_name] = train_count\n",
        "            val_counts[class_name] = val_count\n",
        "        \n",
        "        train_total = sum(train_counts.values())\n",
        "        val_total = sum(val_counts.values())\n",
        "        \n",
        "        for i, class_name in enumerate(all_classes):\n",
        "            train_count = train_counts[class_name]\n",
        "            val_count = val_counts[class_name]\n",
        "            train_pct = (train_count / train_total * 100) if train_total > 0 else 0\n",
        "            val_pct = (val_count / val_total * 100) if val_total > 0 else 0\n",
        "            \n",
        "            print(f\"{i:<12} {class_name:<15} {train_count:<12} {val_count:<10} {train_pct:<8.1f} {val_pct:<8.1f}\")\n",
        "        \n",
        "        print(\"-\" * 75)\n",
        "        print(f\"{'Total':<12} {'':<15} {train_total:<12} {val_total:<10} {100.0:<8.1f} {100.0:<8.1f}\")\n",
        "    else:\n",
        "        print(\"Train or val directory not found in mini_ucf\")\n",
        "else:\n",
        "    print(\"mini_ucf not found. Create it with tools/make_mini_ucf.py\")"
      ]
    }
  ],
  "metadata": {
    "kernelspec": {
      "display_name": ".venv",
      "language": "python",
      "name": "python3"
    },
    "language_info": {
      "codemirror_mode": {
        "name": "ipython",
        "version": 3
      },
      "file_extension": ".py",
      "mimetype": "text/x-python",
      "name": "python",
      "nbconvert_exporter": "python",
      "pygments_lexer": "ipython3",
      "version": "3.12.3"
    }
  },
  "nbformat": 4,
  "nbformat_minor": 5
}
